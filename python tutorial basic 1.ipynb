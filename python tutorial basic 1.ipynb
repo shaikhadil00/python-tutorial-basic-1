{
 "cells": [
  {
   "cell_type": "markdown",
   "id": "d09809ff",
   "metadata": {},
   "source": [
    "# HOW TO FIND THE DATATYPES WITH THE INPUT AND WHT CLASS IT IS "
   ]
  },
  {
   "cell_type": "code",
   "execution_count": 17,
   "id": "6dbaba80",
   "metadata": {},
   "outputs": [],
   "source": [
    "x = 9+5"
   ]
  },
  {
   "cell_type": "code",
   "execution_count": 18,
   "id": "2fdaf61d",
   "metadata": {},
   "outputs": [
    {
     "data": {
      "text/plain": [
       "int"
      ]
     },
     "execution_count": 18,
     "metadata": {},
     "output_type": "execute_result"
    }
   ],
   "source": [
    "type(x)"
   ]
  },
  {
   "cell_type": "code",
   "execution_count": 19,
   "id": "0fb21ef1",
   "metadata": {},
   "outputs": [],
   "source": [
    "y = 15.36"
   ]
  },
  {
   "cell_type": "code",
   "execution_count": 20,
   "id": "014d5330",
   "metadata": {},
   "outputs": [
    {
     "data": {
      "text/plain": [
       "float"
      ]
     },
     "execution_count": 20,
     "metadata": {},
     "output_type": "execute_result"
    }
   ],
   "source": [
    "type(y)"
   ]
  },
  {
   "cell_type": "code",
   "execution_count": 21,
   "id": "3bd81d53",
   "metadata": {},
   "outputs": [],
   "source": [
    "z = \"adil shaikh\""
   ]
  },
  {
   "cell_type": "code",
   "execution_count": 22,
   "id": "b68baa70",
   "metadata": {},
   "outputs": [
    {
     "data": {
      "text/plain": [
       "str"
      ]
     },
     "execution_count": 22,
     "metadata": {},
     "output_type": "execute_result"
    }
   ],
   "source": [
    "type(z)"
   ]
  },
  {
   "cell_type": "code",
   "execution_count": 23,
   "id": "1755a543",
   "metadata": {},
   "outputs": [
    {
     "name": "stdout",
     "output_type": "stream",
     "text": [
      "<class 'float'>\n"
     ]
    }
   ],
   "source": [
    "print(type(y))"
   ]
  },
  {
   "cell_type": "code",
   "execution_count": 24,
   "id": "4849bc94",
   "metadata": {},
   "outputs": [
    {
     "name": "stdout",
     "output_type": "stream",
     "text": [
      "<class 'str'>\n"
     ]
    }
   ],
   "source": [
    "print(type(z))"
   ]
  },
  {
   "cell_type": "code",
   "execution_count": 25,
   "id": "1ca67301",
   "metadata": {},
   "outputs": [
    {
     "name": "stdout",
     "output_type": "stream",
     "text": [
      "<class 'int'>\n"
     ]
    }
   ],
   "source": [
    "print(type(x))"
   ]
  },
  {
   "cell_type": "markdown",
   "id": "f7f748da",
   "metadata": {},
   "source": [
    "# ADDITION :- INTEGERS , FLOAT , STRING"
   ]
  },
  {
   "cell_type": "code",
   "execution_count": 29,
   "id": "5046314d",
   "metadata": {},
   "outputs": [
    {
     "name": "stdout",
     "output_type": "stream",
     "text": [
      "49\n"
     ]
    }
   ],
   "source": [
    "print(15+31+3)"
   ]
  },
  {
   "cell_type": "code",
   "execution_count": 28,
   "id": "963e8267",
   "metadata": {},
   "outputs": [
    {
     "name": "stdout",
     "output_type": "stream",
     "text": [
      "adilfromrizvi\n"
     ]
    }
   ],
   "source": [
    "print(\"adil\"+\"from\"+\"rizvi\")"
   ]
  },
  {
   "cell_type": "code",
   "execution_count": 27,
   "id": "0a7dfdef",
   "metadata": {},
   "outputs": [
    {
     "name": "stdout",
     "output_type": "stream",
     "text": [
      "adil from rizvi\n"
     ]
    }
   ],
   "source": [
    "print(\"adil\"+\" from\"+\" rizvi\")"
   ]
  },
  {
   "cell_type": "code",
   "execution_count": 32,
   "id": "bc55a902",
   "metadata": {},
   "outputs": [
    {
     "data": {
      "text/plain": [
       "'Adil Arisa'"
      ]
     },
     "execution_count": 32,
     "metadata": {},
     "output_type": "execute_result"
    }
   ],
   "source": [
    "first_name = \"Adil\"\n",
    "last_name = \" Arisa\"\n",
    "first_name + last_name "
   ]
  },
  {
   "cell_type": "code",
   "execution_count": 36,
   "id": "e0011f47",
   "metadata": {},
   "outputs": [
    {
     "data": {
      "text/plain": [
       "'Adil is a model'"
      ]
     },
     "execution_count": 36,
     "metadata": {},
     "output_type": "execute_result"
    }
   ],
   "source": [
    "student_name = \"Adil\"\n",
    "\"is a model\"\n",
    "student_name + \" is a model\""
   ]
  },
  {
   "cell_type": "markdown",
   "id": "6effeb1d",
   "metadata": {},
   "source": [
    "# how to add all datatypes with using operator "
   ]
  },
  {
   "cell_type": "code",
   "execution_count": 38,
   "id": "17c6a83b",
   "metadata": {},
   "outputs": [
    {
     "ename": "SyntaxError",
     "evalue": "invalid syntax (2890100142.py, line 1)",
     "output_type": "error",
     "traceback": [
      "\u001b[1;36m  File \u001b[1;32m\"C:\\Users\\ADIL SHAIKH\\AppData\\Local\\Temp\\ipykernel_9288\\2890100142.py\"\u001b[1;36m, line \u001b[1;32m1\u001b[0m\n\u001b[1;33m    print(\"adil age\" +is +18)\u001b[0m\n\u001b[1;37m                      ^\u001b[0m\n\u001b[1;31mSyntaxError\u001b[0m\u001b[1;31m:\u001b[0m invalid syntax\n"
     ]
    }
   ],
   "source": [
    "print(\"adil age\" +is +18)"
   ]
  },
  {
   "cell_type": "code",
   "execution_count": null,
   "id": "821a7962",
   "metadata": {},
   "outputs": [],
   "source": [
    "so for adding string and integer togather we hv to use (,) instead of (+)"
   ]
  },
  {
   "cell_type": "code",
   "execution_count": 43,
   "id": "63077d99",
   "metadata": {},
   "outputs": [
    {
     "name": "stdout",
     "output_type": "stream",
     "text": [
      "adil age is 18\n"
     ]
    }
   ],
   "source": [
    "print(\"adil age\" \" is\" ,18,)"
   ]
  },
  {
   "cell_type": "markdown",
   "id": "31fb29fd",
   "metadata": {},
   "source": [
    "# single and double quotation "
   ]
  },
  {
   "cell_type": "code",
   "execution_count": 48,
   "id": "a23cbec2",
   "metadata": {},
   "outputs": [
    {
     "name": "stdout",
     "output_type": "stream",
     "text": [
      "teacher said save your work\n"
     ]
    }
   ],
   "source": [
    "print('teacher said'+ \" save your work\")"
   ]
  },
  {
   "cell_type": "markdown",
   "id": "1c8cc1be",
   "metadata": {},
   "source": [
    "# string format method . The following method can be appliead to string object"
   ]
  },
  {
   "cell_type": "code",
   "execution_count": null,
   "id": "a877e522",
   "metadata": {},
   "outputs": [],
   "source": [
    "CAPITALIZE() :- first alphabet will be capital\n",
    "\n",
    "LOWER() :- use any dataform or its written in anyform if we use lowercase it will put allthings in small\n",
    "\n",
    "UPPER() :- use any dataform or its written in anyform if we use lowercase it will put allthings in capital\n",
    "\n",
    "SWAPCASE() :- capital into small ,small into capital\n",
    "\n",
    "TILLLE() :- "
   ]
  },
  {
   "cell_type": "code",
   "execution_count": 49,
   "id": "8ce591ce",
   "metadata": {},
   "outputs": [
    {
     "name": "stdout",
     "output_type": "stream",
     "text": [
      "Adil is a model.\n"
     ]
    }
   ],
   "source": [
    "print(\"adil IS a model.\".capitalize())"
   ]
  },
  {
   "cell_type": "code",
   "execution_count": 50,
   "id": "5835b057",
   "metadata": {},
   "outputs": [
    {
     "name": "stdout",
     "output_type": "stream",
     "text": [
      "adil is a model.\n"
     ]
    }
   ],
   "source": [
    "print(\"Adil IS A Model.\".lower())"
   ]
  },
  {
   "cell_type": "code",
   "execution_count": 51,
   "id": "66020e6c",
   "metadata": {},
   "outputs": [
    {
     "name": "stdout",
     "output_type": "stream",
     "text": [
      "ADIL IS A MODEL.\n"
     ]
    }
   ],
   "source": [
    "print(\"adil IS a model.\".upper())"
   ]
  },
  {
   "cell_type": "code",
   "execution_count": 52,
   "id": "1360c05e",
   "metadata": {},
   "outputs": [
    {
     "name": "stdout",
     "output_type": "stream",
     "text": [
      "ADIL is A MODEL.\n"
     ]
    }
   ],
   "source": [
    "print(\"adil IS a model.\".swapcase())"
   ]
  },
  {
   "cell_type": "markdown",
   "id": "76c8a009",
   "metadata": {},
   "source": [
    "# FORMATING STRING INPUT()"
   ]
  },
  {
   "cell_type": "code",
   "execution_count": 69,
   "id": "bc2cf330",
   "metadata": {},
   "outputs": [
    {
     "name": "stdout",
     "output_type": "stream",
     "text": [
      "what is your fav food?:biryani\n",
      "biryani\n"
     ]
    }
   ],
   "source": [
    "(fav_food) = input (\"what is your fav food?:\")\n",
    "print (fav_food)"
   ]
  },
  {
   "cell_type": "code",
   "execution_count": null,
   "id": "bd0356de",
   "metadata": {},
   "outputs": [],
   "source": [
    "so we hv to put the answer in above box . but we have to change the string format that is capitalize n\n",
    "lower upper etc so we hv to write bove at the end like this form for eg. lower()"
   ]
  },
  {
   "cell_type": "markdown",
   "id": "d69450d1",
   "metadata": {},
   "source": [
    "# FIX THE ERROR AND RUN THE CODE"
   ]
  },
  {
   "cell_type": "code",
   "execution_count": 1,
   "id": "0100167c",
   "metadata": {},
   "outputs": [
    {
     "ename": "NameError",
     "evalue": "name 'supplies' is not defined",
     "output_type": "error",
     "traceback": [
      "\u001b[1;31m---------------------------------------------------------------------------\u001b[0m",
      "\u001b[1;31mNameError\u001b[0m                                 Traceback (most recent call last)",
      "\u001b[1;32m~\\AppData\\Local\\Temp\\ipykernel_1232\\140172877.py\u001b[0m in \u001b[0;36m<module>\u001b[1;34m\u001b[0m\n\u001b[1;32m----> 1\u001b[1;33m \u001b[0msupplies\u001b[0m\u001b[1;33m(\u001b[0m\u001b[1;34m\"pen,pencil,eraser\"\u001b[0m\u001b[1;33m)\u001b[0m\u001b[1;33m\u001b[0m\u001b[1;33m\u001b[0m\u001b[0m\n\u001b[0m\u001b[0;32m      2\u001b[0m \u001b[0mprint\u001b[0m\u001b[1;33m(\u001b[0m\u001b[1;34m\"PEN in supplies\"\u001b[0m\u001b[1;33m)\u001b[0m\u001b[1;33m\u001b[0m\u001b[1;33m\u001b[0m\u001b[0m\n",
      "\u001b[1;31mNameError\u001b[0m: name 'supplies' is not defined"
     ]
    }
   ],
   "source": [
    "supplies(\"pen,pencil,eraser\")\n",
    "print(\"PEN in supplies\")"
   ]
  },
  {
   "cell_type": "code",
   "execution_count": null,
   "id": "a5e8701e",
   "metadata": {},
   "outputs": [],
   "source": [
    "so wht we hv put input like in lower or upper context for print we hv to use . wht we use for input text"
   ]
  },
  {
   "cell_type": "code",
   "execution_count": 3,
   "id": "6370dbc7",
   "metadata": {},
   "outputs": [
    {
     "name": "stdout",
     "output_type": "stream",
     "text": [
      "pen in supplies\n"
     ]
    }
   ],
   "source": [
    "supplies = (\"pen,pencil,eraser\")\n",
    "print(\"pen in supplies\")"
   ]
  },
  {
   "cell_type": "markdown",
   "id": "bbefaefe",
   "metadata": {},
   "source": [
    "# writing code with input"
   ]
  },
  {
   "cell_type": "code",
   "execution_count": 6,
   "id": "d9f49f10",
   "metadata": {},
   "outputs": [
    {
     "name": "stdout",
     "output_type": "stream",
     "text": [
      "Enter the name of perrson:adil\n",
      "Enter the 10 num:9137532357\n",
      "Enter the email id:adilshaikh79556@gmail.com\n",
      "hello adil this is yr 9137532357 and yr id adilshaikh79556@gmail.com\n"
     ]
    }
   ],
   "source": [
    "person_name = input(\"Enter the name of perrson:\")\n",
    "contact_num = input(\"Enter the 10 num:\")\n",
    "email_id = input(\"Enter the email id:\")\n",
    "print(\"hello\",person_name,\"this is yr\",contact_num,\"and yr id\",email_id)"
   ]
  },
  {
   "cell_type": "code",
   "execution_count": 7,
   "id": "525063b2",
   "metadata": {},
   "outputs": [
    {
     "name": "stdout",
     "output_type": "stream",
     "text": [
      "flowe name\n",
      "petal\n"
     ]
    }
   ],
   "source": [
    "print(\"flowe name\")\n",
    "flower_name = input()"
   ]
  },
  {
   "cell_type": "code",
   "execution_count": 8,
   "id": "3c22f52c",
   "metadata": {},
   "outputs": [
    {
     "name": "stdout",
     "output_type": "stream",
     "text": [
      "i liked rose of petal\n"
     ]
    }
   ],
   "source": [
    "print(\"i liked rose of\",flower_name)"
   ]
  },
  {
   "cell_type": "code",
   "execution_count": 9,
   "id": "878fc072",
   "metadata": {},
   "outputs": [
    {
     "data": {
      "text/plain": [
       "str"
      ]
     },
     "execution_count": 9,
     "metadata": {},
     "output_type": "execute_result"
    }
   ],
   "source": [
    "type(flower_name)"
   ]
  },
  {
   "cell_type": "code",
   "execution_count": 10,
   "id": "d4920cf5",
   "metadata": {},
   "outputs": [
    {
     "name": "stdout",
     "output_type": "stream",
     "text": [
      "<class 'str'>\n"
     ]
    }
   ],
   "source": [
    "print(type(flower_name))"
   ]
  },
  {
   "cell_type": "markdown",
   "id": "a0a0b4e3",
   "metadata": {},
   "source": [
    "# RULES FOR DEFINING A FUNCTION (check the notes for rules)"
   ]
  },
  {
   "cell_type": "code",
   "execution_count": 16,
   "id": "c68ff166",
   "metadata": {},
   "outputs": [
    {
     "name": "stdout",
     "output_type": "stream",
     "text": [
      "ADIL IS FINE ENOUGH\n"
     ]
    }
   ],
   "source": [
    "def own_statement():\n",
    "    print(\"adil is fine enough\".upper())\n",
    "own_statement()"
   ]
  },
  {
   "cell_type": "markdown",
   "id": "08dc5408",
   "metadata": {},
   "source": [
    "# FUNCTION WITH RETURN VALUE"
   ]
  },
  {
   "cell_type": "code",
   "execution_count": 27,
   "id": "0db95c85",
   "metadata": {},
   "outputs": [
    {
     "name": "stdout",
     "output_type": "stream",
     "text": [
      "Adil Adil\n"
     ]
    }
   ],
   "source": [
    "def thousand_msg(phrase):\n",
    "    thousand = phrase +\" \"+ phrase  \n",
    "    return thousand\n",
    "msg_1000x = thousand_msg(\"Adil\")\n",
    "print(msg_1000x)"
   ]
  },
  {
   "cell_type": "markdown",
   "id": "f59e517d",
   "metadata": {},
   "source": [
    "# FUNCTION PARAMETERS"
   ]
  },
  {
   "cell_type": "code",
   "execution_count": 2,
   "id": "73d0426e",
   "metadata": {},
   "outputs": [
    {
     "name": "stdout",
     "output_type": "stream",
     "text": [
      "shiddat\n"
     ]
    }
   ],
   "source": [
    "def movie_name(phrase):\n",
    "    print(phrase)\n",
    "movie_name(\"shiddat\")\n"
   ]
  },
  {
   "cell_type": "code",
   "execution_count": 7,
   "id": "dd01409d",
   "metadata": {},
   "outputs": [
    {
     "name": "stdout",
     "output_type": "stream",
     "text": [
      "False\n"
     ]
    }
   ],
   "source": [
    "def birth_date(phrase):\n",
    "    print(phrase.isalnum())\n",
    "birth_date(\"Adil 15 , Ayesha 31\")\n"
   ]
  },
  {
   "cell_type": "code",
   "execution_count": 11,
   "id": "bea9b015",
   "metadata": {},
   "outputs": [
    {
     "name": "stdout",
     "output_type": "stream",
     "text": [
      "ALI = FARDEN = HAROON = AMAAN.\n",
      "BHAI.\n"
     ]
    }
   ],
   "source": [
    "def my_frnd(frnd = \"bhai\"):\n",
    "    print(frnd.upper() + \".\")\n",
    "my_frnd(\"ali = farden = haroon = amaan\")\n",
    "my_frnd()"
   ]
  },
  {
   "cell_type": "markdown",
   "id": "3dfe2c51",
   "metadata": {},
   "source": [
    "# FUNCTION WITH MULTI-PARAMETER"
   ]
  },
  {
   "cell_type": "code",
   "execution_count": 9,
   "id": "33bed845",
   "metadata": {},
   "outputs": [
    {
     "name": "stdout",
     "output_type": "stream",
     "text": [
      "schedule [P1]DATA SCIENTISTS,[P2] MACHINE LANGUAGE\n"
     ]
    }
   ],
   "source": [
    "def class_schedule(period1 , period2):\n",
    "    schedule = (\"[P1]\" + period1 + \",[P2]\" + period2)\n",
    "    return schedule\n",
    "\n",
    "s_schedule = class_schedule(\"DATA SCIENTISTS\",\" MACHINE LANGUAGE\")\n",
    "print(\"schedule\", s_schedule)\n",
    "\n",
    "   "
   ]
  },
  {
   "cell_type": "code",
   "execution_count": 25,
   "id": "b9473a5a",
   "metadata": {},
   "outputs": [
    {
     "name": "stdout",
     "output_type": "stream",
     "text": [
      "player [ADIL]ALL-ROUNDER,[HAROON] ALL-ROUNDER,[AYAN] BATSMAN,[SALMAN] ALL-ROUNDER,[ALI] SPINNER/BATSMANS,[YUSUF] ALL-ROUNDER,[HASSAN] ALL-ROUNDER,[ABDU] SPINNER/BATSMANS,[ARFAT] BATSMAN,[MAAZ] ALL-ROUNDER,[AB] BATSMAN\n"
     ]
    }
   ],
   "source": [
    "def battle_champion(player1 , player2 , player3 , player4 , player5 , player6 , player7 , player8 , player9 , player10 , player11):\n",
    "    player = (\"[ADIL]\" + player1 + \",[HAROON]\" + player2 + \",[AYAN]\" + player3 + \",[SALMAN]\" + player4  + \",[ALI]\" + player5  + \",[YUSUF]\" + player6  + \",[HASSAN]\" + player7  + \",[ABDU]\" + player8  + \",[ARFAT]\" + player9  + \",[MAAZ]\" + player10 + \",[AB]\" + player11)\n",
    "    return player\n",
    "\n",
    "e_champion = battle_champion( \"ALL-ROUNDER\", \" ALL-ROUNDER\", \" BATSMAN\", \" ALL-ROUNDER\", \" SPINNER/BATSMANS\",\" ALL-ROUNDER\", \" ALL-ROUNDER\", \" SPINNER/BATSMANS\", \" BATSMAN\", \" ALL-ROUNDER\",\" BATSMAN\")\n",
    "print(\"player\", e_champion)"
   ]
  },
  {
   "cell_type": "markdown",
   "id": "439243a9",
   "metadata": {},
   "source": [
    "# conditions use True or False & Pass: BOOLEAN Condition in Sequence"
   ]
  },
  {
   "cell_type": "code",
   "execution_count": 29,
   "id": "87844d2d",
   "metadata": {},
   "outputs": [
    {
     "name": "stdout",
     "output_type": "stream",
     "text": [
      "rushda is frnd of adil\n"
     ]
    }
   ],
   "source": [
    "if True:\n",
    "    print(\"rushda is frnd of adil\")\n",
    "else:\n",
    "    print(\"not a frnd\")"
   ]
  },
  {
   "cell_type": "markdown",
   "id": "7b610cd1",
   "metadata": {},
   "source": [
    "# RULES :- AFTER IF AND ELSE CONDITION AT THE END WE HV TO [colon (:)]"
   ]
  },
  {
   "cell_type": "code",
   "execution_count": 31,
   "id": "52d256e9",
   "metadata": {},
   "outputs": [],
   "source": [
    "if False:\n",
    "    print(\"rushda is frnd of adil\")\n",
    "else:\n",
    "    pass"
   ]
  },
  {
   "cell_type": "code",
   "execution_count": null,
   "id": "715db6af",
   "metadata": {},
   "outputs": [],
   "source": []
  },
  {
   "cell_type": "markdown",
   "id": "782200ff",
   "metadata": {},
   "source": [
    "# in pass condition ' if ' its true it will give output or 'if' false it will give move to next cell . refer above example"
   ]
  },
  {
   "cell_type": "code",
   "execution_count": 33,
   "id": "87a1a272",
   "metadata": {},
   "outputs": [],
   "source": [
    "# condition with boolean string (if, else, pass)"
   ]
  },
  {
   "cell_type": "code",
   "execution_count": 36,
   "id": "329a279e",
   "metadata": {},
   "outputs": [
    {
     "name": "stdout",
     "output_type": "stream",
     "text": [
      "Enter the Eligible critera3rd and 4th year student\n",
      "minimum 3rd year, max to max 4th year\n"
     ]
    }
   ],
   "source": [
    "student_council = input(\"Enter the Eligible critera\")\n",
    "if student_council.islower():\n",
    "   print(\"minimum 3rd year, max to max 4th year\")\n",
    "else:\n",
    "   print(\"not Eligible\")"
   ]
  },
  {
   "cell_type": "code",
   "execution_count": null,
   "id": "193dd8e0",
   "metadata": {},
   "outputs": [],
   "source": [
    ".isalpha()      }\n",
    ".isalnum()      }\n",
    ".isdegit()      }_______ STRING METHOD IN PYTHON\n",
    ".istittle()     }\n",
    ".islower()      }\n",
    ".startswith()   }"
   ]
  },
  {
   "cell_type": "markdown",
   "id": "4b854779",
   "metadata": {},
   "source": [
    "# COMPARISON OPERATORS"
   ]
  },
  {
   "cell_type": "code",
   "execution_count": null,
   "id": "9870765c",
   "metadata": {},
   "outputs": [],
   "source": [
    ">\n",
    "<\n",
    ">=, <=\n",
    "==\n",
    "Assign = vs compare ==\n",
    "!= not equal to"
   ]
  },
  {
   "cell_type": "code",
   "execution_count": 37,
   "id": "8862b615",
   "metadata": {},
   "outputs": [
    {
     "data": {
      "text/plain": [
       "False"
      ]
     },
     "execution_count": 37,
     "metadata": {},
     "output_type": "execute_result"
    }
   ],
   "source": [
    "4>6"
   ]
  },
  {
   "cell_type": "code",
   "execution_count": 38,
   "id": "305cd560",
   "metadata": {},
   "outputs": [
    {
     "data": {
      "text/plain": [
       "True"
      ]
     },
     "execution_count": 38,
     "metadata": {},
     "output_type": "execute_result"
    }
   ],
   "source": [
    "6<8"
   ]
  },
  {
   "cell_type": "code",
   "execution_count": 39,
   "id": "087b703a",
   "metadata": {},
   "outputs": [
    {
     "data": {
      "text/plain": [
       "(True, True)"
      ]
     },
     "execution_count": 39,
     "metadata": {},
     "output_type": "execute_result"
    }
   ],
   "source": [
    "5<=5 , 6>=6"
   ]
  },
  {
   "cell_type": "code",
   "execution_count": 40,
   "id": "5afbec08",
   "metadata": {},
   "outputs": [
    {
     "data": {
      "text/plain": [
       "True"
      ]
     },
     "execution_count": 40,
     "metadata": {},
     "output_type": "execute_result"
    }
   ],
   "source": [
    "x = 5\n",
    "x == 5"
   ]
  },
  {
   "cell_type": "code",
   "execution_count": 2,
   "id": "13f99c41",
   "metadata": {},
   "outputs": [
    {
     "name": "stdout",
     "output_type": "stream",
     "text": [
      "x!=8\n"
     ]
    }
   ],
   "source": [
    "x = 6\n",
    "if  True:\n",
    "    print(\"x!=8\")\n",
    "else:\n",
    "    print(\"x == 6\")\n"
   ]
  },
  {
   "cell_type": "markdown",
   "id": "3eb68f0e",
   "metadata": {},
   "source": [
    "# string comparison"
   ]
  },
  {
   "cell_type": "code",
   "execution_count": null,
   "id": "ea98168a",
   "metadata": {},
   "outputs": [],
   "source": [
    "alphabetically \"A\" is less than \"B\"\n",
    "\n",
    "lowercase \"a\" is greater than uppercase \"A\""
   ]
  },
  {
   "cell_type": "code",
   "execution_count": 3,
   "id": "d08999b8",
   "metadata": {},
   "outputs": [
    {
     "data": {
      "text/plain": [
       "True"
      ]
     },
     "execution_count": 3,
     "metadata": {},
     "output_type": "execute_result"
    }
   ],
   "source": [
    "\"A\"<\"B\""
   ]
  },
  {
   "cell_type": "code",
   "execution_count": 5,
   "id": "e8d3c33d",
   "metadata": {},
   "outputs": [
    {
     "data": {
      "text/plain": [
       "True"
      ]
     },
     "execution_count": 5,
     "metadata": {},
     "output_type": "execute_result"
    }
   ],
   "source": [
    "\"a\">\"A\""
   ]
  },
  {
   "cell_type": "code",
   "execution_count": 7,
   "id": "582c7707",
   "metadata": {},
   "outputs": [
    {
     "data": {
      "text/plain": [
       "True"
      ]
     },
     "execution_count": 7,
     "metadata": {},
     "output_type": "execute_result"
    }
   ],
   "source": [
    "\"a\">\"B\""
   ]
  },
  {
   "cell_type": "code",
   "execution_count": 2,
   "id": "1b6d9c88",
   "metadata": {},
   "outputs": [
    {
     "name": "stdout",
     "output_type": "stream",
     "text": [
      "wht is 6+754\n",
      "54 is not correct\n"
     ]
    }
   ],
   "source": [
    "answer = input(\"wht is 6+7\")\n",
    "if answer == 11 :\n",
    "    print(answer,\"is correct\")\n",
    "else:\n",
    "    print(answer,\"is not correct\")\n",
    "    "
   ]
  },
  {
   "cell_type": "markdown",
   "id": "5919c792",
   "metadata": {},
   "source": [
    "# elif condition :- use as (ek k niche ek)"
   ]
  },
  {
   "cell_type": "code",
   "execution_count": 5,
   "id": "91ce0981",
   "metadata": {},
   "outputs": [
    {
     "name": "stdout",
     "output_type": "stream",
     "text": [
      "Enter weather(sunny,rainy,snow)snow\n",
      "keep leather jacket with u\n"
     ]
    }
   ],
   "source": [
    "weather = input(\"Enter weather(sunny,rainy,snow)\")\n",
    "if weather.lower() == \"sunny\" :\n",
    "    print(\"keep suncream with u\")\n",
    "elif weather.lower() == \"rainy\" :\n",
    "    print(\"keep raincoat with u \")\n",
    "elif weather.lower() == \"snow\" :\n",
    "    print(\"keep leather jacket with u\")\n",
    "else:\n",
    "    print(\"sorry, cant tell about weather\")\n"
   ]
  },
  {
   "cell_type": "markdown",
   "id": "21a9a84e",
   "metadata": {},
   "source": [
    "# CASTING in python means how to add string int with '+' sign"
   ]
  },
  {
   "cell_type": "code",
   "execution_count": 9,
   "id": "9c976eb0",
   "metadata": {},
   "outputs": [
    {
     "data": {
      "text/plain": [
       "13"
      ]
     },
     "execution_count": 9,
     "metadata": {},
     "output_type": "execute_result"
    }
   ],
   "source": [
    "x = '6'\n",
    "y = 7\n",
    "int(x) + y"
   ]
  },
  {
   "cell_type": "markdown",
   "id": "e7313696",
   "metadata": {},
   "source": [
    "# NESTED CONDITION: as many condition  can apply\n",
    "\n",
    "   if\n",
    "      if \n",
    "         if\n",
    "         \n",
    "         else\n",
    "         \n",
    "      else\n",
    "      \n",
    "   else"
   ]
  },
  {
   "cell_type": "code",
   "execution_count": 21,
   "id": "51486132",
   "metadata": {},
   "outputs": [
    {
     "name": "stdout",
     "output_type": "stream",
     "text": [
      "number is a birth date of adil\n"
     ]
    }
   ],
   "source": [
    "number = 15\n",
    "if number >=15:\n",
    "    if number <=15:\n",
    "        print(\"number is a birth date of adil\")\n",
    "        \n",
    "    else:\n",
    "        print(\"it is not a birthdate of adil\")\n",
    "else:\n",
    "    print(\"missing\")\n",
    "        "
   ]
  },
  {
   "cell_type": "code",
   "execution_count": 23,
   "id": "d595182f",
   "metadata": {},
   "outputs": [
    {
     "name": "stdout",
     "output_type": "stream",
     "text": [
      "c for cutton , s for silkc\n",
      "g for green dress , b for blue dressb\n",
      "blue is perfect dress_style for adil\n"
     ]
    }
   ],
   "source": [
    "dress_style = input(\"c for cutton , s for silk\")\n",
    "if dress_style.lower() == \"c\" :\n",
    "    dress_style = input (\"g for green dress , b for blue dress\")\n",
    "    if dress_style.lower() == \"b\" :\n",
    "        print(\"blue is perfect dress_style for adil\")\n",
    "    \n",
    "    else:\n",
    "        print(\"silk is better option\")\n",
    "        \n",
    "else:\n",
    "    print(\"blue wont suit adil\")"
   ]
  },
  {
   "cell_type": "markdown",
   "id": "bf498528",
   "metadata": {},
   "source": [
    "# FORMATTING STRINGS USING ESCAPE SEQUENCES\n",
    "\n",
    "ESCAPE SEQUENCES ALL START WITH A backslash(\\)\n",
    "\n",
    "ESCAPE SEQUENCES are part of special formatting characters\n",
    "\\t  Tab\n",
    "\\n return or newline\n",
    "\n",
    "ESCAPE SEQUENCES can be used to display character in PYTHON REVERSED FOR FORMATTING\n",
    "\n",
    "\\'    SINGLE qoute (')\n",
    "\\\"    double qoute (\")"
   ]
  },
  {
   "cell_type": "code",
   "execution_count": 27,
   "id": "3a23a6b7",
   "metadata": {},
   "outputs": [
    {
     "name": "stdout",
     "output_type": "stream",
     "text": [
      "student_name \n",
      "is a good boy\n"
     ]
    }
   ],
   "source": [
    "student_name = \"Adil shaikh\"            \n",
    "print(\"student_name \\nis a good boy\")"
   ]
  },
  {
   "cell_type": "code",
   "execution_count": 28,
   "id": "fd382b6e",
   "metadata": {},
   "outputs": [
    {
     "name": "stdout",
     "output_type": "stream",
     "text": [
      "studnt_id\t\t\tadilshaikh79556@eng.rizvi.edu.in\n"
     ]
    }
   ],
   "source": [
    "stident_id = \"adilshaikh795562@rizvi colege of engeenering\"\n",
    "print(\"studnt_id\\t\\t\\tadilshaikh79556@eng.rizvi.edu.in\")"
   ]
  },
  {
   "cell_type": "code",
   "execution_count": null,
   "id": "5dbdbeba",
   "metadata": {},
   "outputs": [],
   "source": [
    "if u wanna use both SINGLE qoute (')   double qoute (\") we hv to us use (\\) backslash"
   ]
  },
  {
   "cell_type": "code",
   "execution_count": 29,
   "id": "9680c37c",
   "metadata": {},
   "outputs": [
    {
     "name": "stdout",
     "output_type": "stream",
     "text": [
      "\"qoutes is qoutes\"\n",
      "I've said \"save your notebook,\" so let's do it\n"
     ]
    }
   ],
   "source": [
    "print(\"\\\"qoutes is qoutes\\\"\")\n",
    "print(\"I\\'ve said \\\"save your notebook,\\\" so let\\'s do it\")"
   ]
  },
  {
   "cell_type": "markdown",
   "id": "09de4a4e",
   "metadata": {},
   "source": [
    "# Increment Decrement Variable"
   ]
  },
  {
   "cell_type": "code",
   "execution_count": null,
   "id": "d9f4c2be",
   "metadata": {},
   "outputs": [],
   "source": [
    "Increment variable\n",
    "\n",
    "x = x + 1   OR  x += 1    we can run as many time with this\n",
    "\n",
    "Decrement variable \n",
    "\n",
    "x = x + 1  OR x -= 1"
   ]
  },
  {
   "cell_type": "code",
   "execution_count": 32,
   "id": "e059a360",
   "metadata": {},
   "outputs": [
    {
     "name": "stdout",
     "output_type": "stream",
     "text": [
      "7\n"
     ]
    }
   ],
   "source": [
    "x = 7\n",
    "print(x)"
   ]
  },
  {
   "cell_type": "code",
   "execution_count": 35,
   "id": "21f3dd1b",
   "metadata": {},
   "outputs": [
    {
     "name": "stdout",
     "output_type": "stream",
     "text": [
      "10\n"
     ]
    }
   ],
   "source": [
    "x = x + 1\n",
    "print(x)"
   ]
  },
  {
   "cell_type": "code",
   "execution_count": 38,
   "id": "5acd1874",
   "metadata": {},
   "outputs": [
    {
     "name": "stdout",
     "output_type": "stream",
     "text": [
      "7\n"
     ]
    }
   ],
   "source": [
    "x = x - 1\n",
    "print(x)"
   ]
  },
  {
   "cell_type": "code",
   "execution_count": 42,
   "id": "263c1b53",
   "metadata": {},
   "outputs": [
    {
     "name": "stdout",
     "output_type": "stream",
     "text": [
      "candies count: 0\n",
      "candies count: 1\n",
      "candies count: 2\n",
      "candies count: 3\n",
      "candies count: 4\n",
      "candies count: 5\n",
      "candies count: 6\n",
      "candies count: 7\n",
      "candies count: 8\n"
     ]
    }
   ],
   "source": [
    "candies_count = 0\n",
    "while True:\n",
    "    print(\"candies count:\" , candies_count)\n",
    "    candies_count += 1\n",
    "    \n",
    "    if candies_count > 8:\n",
    "        break;"
   ]
  },
  {
   "cell_type": "code",
   "execution_count": null,
   "id": "c533e1fb",
   "metadata": {},
   "outputs": [],
   "source": [
    "while loop with boolean comparison :- if we were not writing 'break' then we hv to us ecomparison sigh  '='\n",
    "\n",
    "< , >\n",
    "== , !=\n",
    "<= , >=   "
   ]
  },
  {
   "cell_type": "code",
   "execution_count": 8,
   "id": "15234073",
   "metadata": {},
   "outputs": [
    {
     "name": "stdout",
     "output_type": "stream",
     "text": [
      "candies count: 0\n",
      "candies count: 2\n",
      "candies count: 4\n",
      "candies count: 6\n",
      "candies count: 8\n"
     ]
    }
   ],
   "source": [
    "candies_count = 0\n",
    "while candies_count >= 0:\n",
    "    print(\"candies count:\" , candies_count)\n",
    "    candies_count += 2\n",
    "    \n",
    "    if candies_count > 8:\n",
    "        break;\n",
    "        "
   ]
  },
  {
   "cell_type": "code",
   "execution_count": null,
   "id": "9276d22a",
   "metadata": {},
   "outputs": [],
   "source": []
  }
 ],
 "metadata": {
  "kernelspec": {
   "display_name": "Python 3 (ipykernel)",
   "language": "python",
   "name": "python3"
  },
  "language_info": {
   "codemirror_mode": {
    "name": "ipython",
    "version": 3
   },
   "file_extension": ".py",
   "mimetype": "text/x-python",
   "name": "python",
   "nbconvert_exporter": "python",
   "pygments_lexer": "ipython3",
   "version": "3.9.13"
  }
 },
 "nbformat": 4,
 "nbformat_minor": 5
}
